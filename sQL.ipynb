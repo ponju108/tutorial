{
  "nbformat": 4,
  "nbformat_minor": 0,
  "metadata": {
    "colab": {
      "provenance": [],
      "authorship_tag": "ABX9TyM9BttzkGGqv1OxxCePv/Xz",
      "include_colab_link": true
    },
    "kernelspec": {
      "name": "python3",
      "display_name": "Python 3"
    },
    "language_info": {
      "name": "python"
    }
  },
  "cells": [
    {
      "cell_type": "markdown",
      "metadata": {
        "id": "view-in-github",
        "colab_type": "text"
      },
      "source": [
        "<a href=\"https://colab.research.google.com/github/ponju108/tutorial/blob/main/sQL.ipynb\" target=\"_parent\"><img src=\"https://colab.research.google.com/assets/colab-badge.svg\" alt=\"Open In Colab\"/></a>"
      ]
    },
    {
      "cell_type": "code",
      "execution_count": null,
      "metadata": {
        "colab": {
          "base_uri": "https://localhost:8080/"
        },
        "id": "J7t7jnU9NJTK",
        "outputId": "c0cb360e-be79-49cd-c222-f378859d3640"
      },
      "outputs": [
        {
          "output_type": "stream",
          "name": "stdout",
          "text": [
            "Looking in indexes: https://pypi.org/simple, https://us-python.pkg.dev/colab-wheels/public/simple/\n",
            "Requirement already satisfied: PyMySQL in /usr/local/lib/python3.8/dist-packages (1.0.2)\n",
            "Looking in indexes: https://pypi.org/simple, https://us-python.pkg.dev/colab-wheels/public/simple/\n",
            "Requirement already satisfied: pymysql in /usr/local/lib/python3.8/dist-packages (1.0.2)\n"
          ]
        }
      ],
      "source": [
        "!pip  install PyMySQL\n",
        "!pip  install pymysql\n",
        "\n"
      ]
    },
    {
      "cell_type": "code",
      "source": [
        "import pymysql\n",
        "\n",
        "link = pymysql.connect(\n",
        "    host = \"0.tcp.jp.ngrok.io\",\n",
        "    user = \"root\",\n",
        "    passwd = \"\",\n",
        "    db = \"20230308\",\n",
        "    charset = \"utf8\",\n",
        "    port = 13264\n",
        ")\n",
        "\n",
        "cur = link.cursor()\n",
        "\n",
        "\n",
        "\n",
        "data= [\n",
        "    input(\"標題: \"),\n",
        "    input(\"說明: \"),\n",
        "    input(\"日期: \"),\n",
        "    input(\"來源: \")  \n",
        "]\n",
        "\n",
        "cur.execute(\"INSERT INTO `news`(`title`,`ins`,`data`,`sor`) VALUES(%s,%s,%s,%s,)\",data)\n",
        "\n",
        "link.commit()\n",
        "\n",
        "link.close()"
      ],
      "metadata": {
        "colab": {
          "base_uri": "https://localhost:8080/",
          "height": 132
        },
        "id": "zpGWW1_EPc57",
        "outputId": "08db8ce3-c2d2-4fbe-93e6-5e84a817bf8d"
      },
      "execution_count": null,
      "outputs": [
        {
          "output_type": "error",
          "ename": "SyntaxError",
          "evalue": "ignored",
          "traceback": [
            "\u001b[0;36m  File \u001b[0;32m\"<ipython-input-27-69b35d297aa1>\"\u001b[0;36m, line \u001b[0;32m23\u001b[0m\n\u001b[0;31m    cur.execute(`INSERT INTO `news`(`title`,`ins`,`data`,`sor`) VALUES(%s,%s,%s,%s,)`,data)\u001b[0m\n\u001b[0m                ^\u001b[0m\n\u001b[0;31mSyntaxError\u001b[0m\u001b[0;31m:\u001b[0m invalid syntax\n"
          ]
        }
      ]
    },
    {
      "cell_type": "markdown",
      "source": [],
      "metadata": {
        "id": "Tlm84_i3WkzA"
      }
    }
  ]
}